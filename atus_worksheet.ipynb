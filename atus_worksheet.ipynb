{
 "cells": [
  {
   "cell_type": "code",
   "execution_count": 1,
   "metadata": {
    "collapsed": true
   },
   "outputs": [],
   "source": [
    "import matplotlib.pyplot as plt\n",
    "import numpy as np\n",
    "import pandas as pd\n",
    "from pandas import DataFrame, Series\n",
    "import data as data\n",
    "import seaborn\n",
    "import re\n",
    "%matplotlib inline"
   ]
  },
  {
   "cell_type": "code",
   "execution_count": 2,
   "metadata": {
    "collapsed": false
   },
   "outputs": [],
   "source": [
    "#Show all columns\n",
    "#pd.set_option('display.max_columns', None)"
   ]
  },
  {
   "cell_type": "code",
   "execution_count": 3,
   "metadata": {
    "collapsed": false
   },
   "outputs": [],
   "source": [
    "# respondent = []\n",
    "respondent = pd.read_csv('data/atusresp_2014.dat', sep=',')\n",
    "\n",
    "roster_list = [0, 1, 2, 3, 4]\n",
    "roster = pd.read_csv('data/atusrost_2014.dat', sep=',', usecols=roster_list)\n",
    "\n",
    "activity_list = [0, 1, 3, 4, 5, 6, 7, 8, 9, 10, 11, 12, 13, 14, 15, 16, 17, 18, 20, 21, 22]\n",
    "activity = pd.read_csv('data/atusact_2014.dat', sep=',', usecols=activity_list)\n",
    "\n",
    "who_list = [0, 1, 3, 4]\n",
    "who = pd.read_csv('data/atuswho_2014.dat', sep=',', usecols=who_list)\n",
    "\n",
    "elder_list = [0, 1, 2, 3, 4, 5, 6, 7]\n",
    "elder = pd.read_csv('data/atusrostec_2014.dat', sep=',', usecols=elder_list)\n",
    "\n",
    "#summary = []\n",
    "summary = pd.read_csv('data/atussum_2014.dat', sep=',')\n",
    "\n",
    "\n"
   ]
  },
  {
   "cell_type": "code",
   "execution_count": 26,
   "metadata": {
    "collapsed": false
   },
   "outputs": [],
   "source": [
    "#respondent\n",
    "\n",
    "#roster\n",
    "#Household ID, family member, age, relationship, sex\n",
    "\n",
    "#activity\n",
    "#Household ID, activity, time spend \n",
    "\n",
    "#who\n",
    "#household ID, activity number, \n",
    "\n",
    "#elder\n",
    "\n",
    "#summary\n",
    "# summary.rename(columns={'tucaseid':'Household ID', 'TUFINLWGT':'Weighted',\n",
    "# 'TRYHHCHILD':'Youngest Child', 'TEAGE':'AGE', 'TESEX': 'SEX', 'PEEDUCA':'EDU',\n",
    "# 'PTDTRACE':'RACE', 'GTMETSTA':'METRO', 'PEHSPNON': 'HISP','TELFS':'Labor Force'})"
   ]
  },
  {
   "cell_type": "code",
   "execution_count": null,
   "metadata": {
    "collapsed": true
   },
   "outputs": [],
   "source": []
  },
  {
   "cell_type": "code",
   "execution_count": null,
   "metadata": {
    "collapsed": true
   },
   "outputs": [],
   "source": []
  },
  {
   "cell_type": "code",
   "execution_count": null,
   "metadata": {
    "collapsed": true
   },
   "outputs": [],
   "source": []
  },
  {
   "cell_type": "code",
   "execution_count": null,
   "metadata": {
    "collapsed": true
   },
   "outputs": [],
   "source": []
  },
  {
   "cell_type": "code",
   "execution_count": null,
   "metadata": {
    "collapsed": true
   },
   "outputs": [],
   "source": []
  },
  {
   "cell_type": "code",
   "execution_count": null,
   "metadata": {
    "collapsed": true
   },
   "outputs": [],
   "source": []
  },
  {
   "cell_type": "code",
   "execution_count": null,
   "metadata": {
    "collapsed": true
   },
   "outputs": [],
   "source": []
  },
  {
   "cell_type": "code",
   "execution_count": 21,
   "metadata": {
    "collapsed": true
   },
   "outputs": [],
   "source": [
    "#Create function to change TESEX values\n",
    "def sex_changes(value):\n",
    "    for sex in value:\n",
    "        if sex == '1':\n",
    "            return \"Male\"\n",
    "        if sex == '2':\n",
    "            return \"Female\""
   ]
  },
  {
   "cell_type": "code",
   "execution_count": 20,
   "metadata": {
    "collapsed": true
   },
   "outputs": [],
   "source": [
    "#Change values type to string to iterate. \n",
    "roster.TESEX = roster.TESEX.astype(str)"
   ]
  },
  {
   "cell_type": "code",
   "execution_count": 26,
   "metadata": {
    "collapsed": false
   },
   "outputs": [],
   "source": [
    "roster.TESEX = roster.TESEX.apply(lambda x: sex_changes(x))"
   ]
  },
  {
   "cell_type": "code",
   "execution_count": 27,
   "metadata": {
    "collapsed": false
   },
   "outputs": [],
   "source": [
    "sex_count = roster['TESEX']"
   ]
  },
  {
   "cell_type": "code",
   "execution_count": 30,
   "metadata": {
    "collapsed": false
   },
   "outputs": [
    {
     "data": {
      "text/plain": [
       "<matplotlib.axes._subplots.AxesSubplot at 0x1126bf240>"
      ]
     },
     "execution_count": 30,
     "metadata": {},
     "output_type": "execute_result"
    },
    {
     "data": {
      "image/png": "[encoded data removed]",
      "text/plain": [
       "<matplotlib.figure.Figure at 0x1126d54e0>"
      ]
     },
     "metadata": {},
     "output_type": "display_data"
    }
   ],
   "source": [
    "plt.xlabel('Quantity (in thousands)')\n",
    "plt.ylabel('Gender')\n",
    "sex_count.value_counts().plot.barh(title=\"Battle Of The Sexes\")"
   ]
  },
  {
   "cell_type": "code",
   "execution_count": 30,
   "metadata": {
    "collapsed": false
   },
   "outputs": [],
   "source": [
    "def sex_change(row):\n",
    "    for sex in row:\n",
    "        if sex == 1:\n",
    "            return \"M\"\n",
    "        if sex == 2:\n",
    "            return \"F\"\n"
   ]
  },
  {
   "cell_type": "code",
   "execution_count": 31,
   "metadata": {
    "collapsed": false
   },
   "outputs": [],
   "source": [
    "updated = sex_change(sex_count)"
   ]
  },
  {
   "cell_type": "code",
   "execution_count": 15,
   "metadata": {
    "collapsed": false
   },
   "outputs": [
    {
     "data": {
      "text/html": [
       "<div>\n",
       "<table border=\"1\" class=\"dataframe\">\n",
       "  <thead>\n",
       "    <tr style=\"text-align: right;\">\n",
       "      <th></th>\n",
       "      <th>TUCASEID</th>\n",
       "      <th>TULINENO</th>\n",
       "      <th>TEAGE</th>\n",
       "      <th>TERRP</th>\n",
       "      <th>TESEX</th>\n",
       "    </tr>\n",
       "  </thead>\n",
       "  <tbody>\n",
       "    <tr>\n",
       "      <th>0</th>\n",
       "      <td>20140101140007</td>\n",
       "      <td>1</td>\n",
       "      <td>20</td>\n",
       "      <td>19</td>\n",
       "      <td>2</td>\n",
       "    </tr>\n",
       "    <tr>\n",
       "      <th>1</th>\n",
       "      <td>20140101140007</td>\n",
       "      <td>2</td>\n",
       "      <td>19</td>\n",
       "      <td>21</td>\n",
       "      <td>1</td>\n",
       "    </tr>\n",
       "    <tr>\n",
       "      <th>2</th>\n",
       "      <td>20140101140007</td>\n",
       "      <td>3</td>\n",
       "      <td>0</td>\n",
       "      <td>22</td>\n",
       "      <td>1</td>\n",
       "    </tr>\n",
       "    <tr>\n",
       "      <th>3</th>\n",
       "      <td>20140101140011</td>\n",
       "      <td>1</td>\n",
       "      <td>16</td>\n",
       "      <td>18</td>\n",
       "      <td>2</td>\n",
       "    </tr>\n",
       "    <tr>\n",
       "      <th>4</th>\n",
       "      <td>20140101140011</td>\n",
       "      <td>2</td>\n",
       "      <td>33</td>\n",
       "      <td>24</td>\n",
       "      <td>2</td>\n",
       "    </tr>\n",
       "    <tr>\n",
       "      <th>5</th>\n",
       "      <td>20140101140028</td>\n",
       "      <td>1</td>\n",
       "      <td>65</td>\n",
       "      <td>18</td>\n",
       "      <td>2</td>\n",
       "    </tr>\n",
       "    <tr>\n",
       "      <th>6</th>\n",
       "      <td>20140101140028</td>\n",
       "      <td>2</td>\n",
       "      <td>38</td>\n",
       "      <td>28</td>\n",
       "      <td>1</td>\n",
       "    </tr>\n",
       "    <tr>\n",
       "      <th>7</th>\n",
       "      <td>20140101140028</td>\n",
       "      <td>3</td>\n",
       "      <td>36</td>\n",
       "      <td>22</td>\n",
       "      <td>2</td>\n",
       "    </tr>\n",
       "    <tr>\n",
       "      <th>8</th>\n",
       "      <td>20140101140028</td>\n",
       "      <td>5</td>\n",
       "      <td>5</td>\n",
       "      <td>23</td>\n",
       "      <td>2</td>\n",
       "    </tr>\n",
       "    <tr>\n",
       "      <th>9</th>\n",
       "      <td>20140101140028</td>\n",
       "      <td>6</td>\n",
       "      <td>13</td>\n",
       "      <td>23</td>\n",
       "      <td>1</td>\n",
       "    </tr>\n",
       "    <tr>\n",
       "      <th>10</th>\n",
       "      <td>20140101140028</td>\n",
       "      <td>7</td>\n",
       "      <td>2</td>\n",
       "      <td>23</td>\n",
       "      <td>1</td>\n",
       "    </tr>\n",
       "    <tr>\n",
       "      <th>11</th>\n",
       "      <td>20140101140063</td>\n",
       "      <td>1</td>\n",
       "      <td>50</td>\n",
       "      <td>19</td>\n",
       "      <td>2</td>\n",
       "    </tr>\n",
       "    <tr>\n",
       "      <th>12</th>\n",
       "      <td>20140101140168</td>\n",
       "      <td>1</td>\n",
       "      <td>23</td>\n",
       "      <td>18</td>\n",
       "      <td>2</td>\n",
       "    </tr>\n",
       "    <tr>\n",
       "      <th>13</th>\n",
       "      <td>20140101140168</td>\n",
       "      <td>2</td>\n",
       "      <td>8</td>\n",
       "      <td>22</td>\n",
       "      <td>2</td>\n",
       "    </tr>\n",
       "    <tr>\n",
       "      <th>14</th>\n",
       "      <td>20140101140537</td>\n",
       "      <td>1</td>\n",
       "      <td>85</td>\n",
       "      <td>18</td>\n",
       "      <td>1</td>\n",
       "    </tr>\n",
       "    <tr>\n",
       "      <th>15</th>\n",
       "      <td>20140101140537</td>\n",
       "      <td>2</td>\n",
       "      <td>62</td>\n",
       "      <td>22</td>\n",
       "      <td>1</td>\n",
       "    </tr>\n",
       "    <tr>\n",
       "      <th>16</th>\n",
       "      <td>20140101140559</td>\n",
       "      <td>1</td>\n",
       "      <td>27</td>\n",
       "      <td>18</td>\n",
       "      <td>1</td>\n",
       "    </tr>\n",
       "    <tr>\n",
       "      <th>17</th>\n",
       "      <td>20140101140559</td>\n",
       "      <td>2</td>\n",
       "      <td>25</td>\n",
       "      <td>20</td>\n",
       "      <td>2</td>\n",
       "    </tr>\n",
       "    <tr>\n",
       "      <th>18</th>\n",
       "      <td>20140101140559</td>\n",
       "      <td>3</td>\n",
       "      <td>1</td>\n",
       "      <td>22</td>\n",
       "      <td>2</td>\n",
       "    </tr>\n",
       "    <tr>\n",
       "      <th>19</th>\n",
       "      <td>20140101140610</td>\n",
       "      <td>1</td>\n",
       "      <td>28</td>\n",
       "      <td>18</td>\n",
       "      <td>1</td>\n",
       "    </tr>\n",
       "    <tr>\n",
       "      <th>20</th>\n",
       "      <td>20140101140610</td>\n",
       "      <td>2</td>\n",
       "      <td>29</td>\n",
       "      <td>20</td>\n",
       "      <td>2</td>\n",
       "    </tr>\n",
       "    <tr>\n",
       "      <th>21</th>\n",
       "      <td>20140101140610</td>\n",
       "      <td>3</td>\n",
       "      <td>0</td>\n",
       "      <td>22</td>\n",
       "      <td>2</td>\n",
       "    </tr>\n",
       "    <tr>\n",
       "      <th>22</th>\n",
       "      <td>20140101140614</td>\n",
       "      <td>1</td>\n",
       "      <td>63</td>\n",
       "      <td>19</td>\n",
       "      <td>2</td>\n",
       "    </tr>\n",
       "    <tr>\n",
       "      <th>23</th>\n",
       "      <td>20140101140639</td>\n",
       "      <td>1</td>\n",
       "      <td>85</td>\n",
       "      <td>19</td>\n",
       "      <td>1</td>\n",
       "    </tr>\n",
       "    <tr>\n",
       "      <th>24</th>\n",
       "      <td>20140101140665</td>\n",
       "      <td>1</td>\n",
       "      <td>66</td>\n",
       "      <td>18</td>\n",
       "      <td>2</td>\n",
       "    </tr>\n",
       "    <tr>\n",
       "      <th>25</th>\n",
       "      <td>20140101140665</td>\n",
       "      <td>2</td>\n",
       "      <td>66</td>\n",
       "      <td>20</td>\n",
       "      <td>1</td>\n",
       "    </tr>\n",
       "    <tr>\n",
       "      <th>26</th>\n",
       "      <td>20140101140685</td>\n",
       "      <td>1</td>\n",
       "      <td>54</td>\n",
       "      <td>19</td>\n",
       "      <td>1</td>\n",
       "    </tr>\n",
       "    <tr>\n",
       "      <th>27</th>\n",
       "      <td>20140101140685</td>\n",
       "      <td>2</td>\n",
       "      <td>58</td>\n",
       "      <td>28</td>\n",
       "      <td>1</td>\n",
       "    </tr>\n",
       "    <tr>\n",
       "      <th>28</th>\n",
       "      <td>20140101140702</td>\n",
       "      <td>1</td>\n",
       "      <td>31</td>\n",
       "      <td>18</td>\n",
       "      <td>2</td>\n",
       "    </tr>\n",
       "    <tr>\n",
       "      <th>29</th>\n",
       "      <td>20140101140702</td>\n",
       "      <td>2</td>\n",
       "      <td>8</td>\n",
       "      <td>22</td>\n",
       "      <td>2</td>\n",
       "    </tr>\n",
       "    <tr>\n",
       "      <th>...</th>\n",
       "      <td>...</td>\n",
       "      <td>...</td>\n",
       "      <td>...</td>\n",
       "      <td>...</td>\n",
       "      <td>...</td>\n",
       "    </tr>\n",
       "    <tr>\n",
       "      <th>31169</th>\n",
       "      <td>20141212142400</td>\n",
       "      <td>1</td>\n",
       "      <td>79</td>\n",
       "      <td>18</td>\n",
       "      <td>1</td>\n",
       "    </tr>\n",
       "    <tr>\n",
       "      <th>31170</th>\n",
       "      <td>20141212142400</td>\n",
       "      <td>2</td>\n",
       "      <td>78</td>\n",
       "      <td>20</td>\n",
       "      <td>2</td>\n",
       "    </tr>\n",
       "    <tr>\n",
       "      <th>31171</th>\n",
       "      <td>20141212142422</td>\n",
       "      <td>1</td>\n",
       "      <td>65</td>\n",
       "      <td>18</td>\n",
       "      <td>1</td>\n",
       "    </tr>\n",
       "    <tr>\n",
       "      <th>31172</th>\n",
       "      <td>20141212142422</td>\n",
       "      <td>2</td>\n",
       "      <td>62</td>\n",
       "      <td>20</td>\n",
       "      <td>2</td>\n",
       "    </tr>\n",
       "    <tr>\n",
       "      <th>31173</th>\n",
       "      <td>20141212142441</td>\n",
       "      <td>1</td>\n",
       "      <td>70</td>\n",
       "      <td>18</td>\n",
       "      <td>1</td>\n",
       "    </tr>\n",
       "    <tr>\n",
       "      <th>31174</th>\n",
       "      <td>20141212142441</td>\n",
       "      <td>2</td>\n",
       "      <td>65</td>\n",
       "      <td>20</td>\n",
       "      <td>2</td>\n",
       "    </tr>\n",
       "    <tr>\n",
       "      <th>31175</th>\n",
       "      <td>20141212142461</td>\n",
       "      <td>1</td>\n",
       "      <td>75</td>\n",
       "      <td>19</td>\n",
       "      <td>1</td>\n",
       "    </tr>\n",
       "    <tr>\n",
       "      <th>31176</th>\n",
       "      <td>20141212142462</td>\n",
       "      <td>1</td>\n",
       "      <td>33</td>\n",
       "      <td>18</td>\n",
       "      <td>2</td>\n",
       "    </tr>\n",
       "    <tr>\n",
       "      <th>31177</th>\n",
       "      <td>20141212142462</td>\n",
       "      <td>2</td>\n",
       "      <td>37</td>\n",
       "      <td>20</td>\n",
       "      <td>1</td>\n",
       "    </tr>\n",
       "    <tr>\n",
       "      <th>31178</th>\n",
       "      <td>20141212142462</td>\n",
       "      <td>3</td>\n",
       "      <td>1</td>\n",
       "      <td>22</td>\n",
       "      <td>1</td>\n",
       "    </tr>\n",
       "    <tr>\n",
       "      <th>31179</th>\n",
       "      <td>20141212142470</td>\n",
       "      <td>1</td>\n",
       "      <td>37</td>\n",
       "      <td>18</td>\n",
       "      <td>2</td>\n",
       "    </tr>\n",
       "    <tr>\n",
       "      <th>31180</th>\n",
       "      <td>20141212142470</td>\n",
       "      <td>2</td>\n",
       "      <td>15</td>\n",
       "      <td>22</td>\n",
       "      <td>2</td>\n",
       "    </tr>\n",
       "    <tr>\n",
       "      <th>31181</th>\n",
       "      <td>20141212142470</td>\n",
       "      <td>3</td>\n",
       "      <td>24</td>\n",
       "      <td>22</td>\n",
       "      <td>1</td>\n",
       "    </tr>\n",
       "    <tr>\n",
       "      <th>31182</th>\n",
       "      <td>20141212142472</td>\n",
       "      <td>1</td>\n",
       "      <td>28</td>\n",
       "      <td>19</td>\n",
       "      <td>1</td>\n",
       "    </tr>\n",
       "    <tr>\n",
       "      <th>31183</th>\n",
       "      <td>20141212142476</td>\n",
       "      <td>1</td>\n",
       "      <td>57</td>\n",
       "      <td>18</td>\n",
       "      <td>1</td>\n",
       "    </tr>\n",
       "    <tr>\n",
       "      <th>31184</th>\n",
       "      <td>20141212142476</td>\n",
       "      <td>2</td>\n",
       "      <td>50</td>\n",
       "      <td>20</td>\n",
       "      <td>2</td>\n",
       "    </tr>\n",
       "    <tr>\n",
       "      <th>31185</th>\n",
       "      <td>20141212142476</td>\n",
       "      <td>3</td>\n",
       "      <td>23</td>\n",
       "      <td>22</td>\n",
       "      <td>2</td>\n",
       "    </tr>\n",
       "    <tr>\n",
       "      <th>31186</th>\n",
       "      <td>20141212142476</td>\n",
       "      <td>4</td>\n",
       "      <td>19</td>\n",
       "      <td>22</td>\n",
       "      <td>1</td>\n",
       "    </tr>\n",
       "    <tr>\n",
       "      <th>31187</th>\n",
       "      <td>20141212142480</td>\n",
       "      <td>1</td>\n",
       "      <td>57</td>\n",
       "      <td>18</td>\n",
       "      <td>2</td>\n",
       "    </tr>\n",
       "    <tr>\n",
       "      <th>31188</th>\n",
       "      <td>20141212142480</td>\n",
       "      <td>2</td>\n",
       "      <td>57</td>\n",
       "      <td>20</td>\n",
       "      <td>1</td>\n",
       "    </tr>\n",
       "    <tr>\n",
       "      <th>31189</th>\n",
       "      <td>20141212142480</td>\n",
       "      <td>3</td>\n",
       "      <td>16</td>\n",
       "      <td>22</td>\n",
       "      <td>1</td>\n",
       "    </tr>\n",
       "    <tr>\n",
       "      <th>31190</th>\n",
       "      <td>20141212142484</td>\n",
       "      <td>1</td>\n",
       "      <td>23</td>\n",
       "      <td>18</td>\n",
       "      <td>1</td>\n",
       "    </tr>\n",
       "    <tr>\n",
       "      <th>31191</th>\n",
       "      <td>20141212142484</td>\n",
       "      <td>2</td>\n",
       "      <td>51</td>\n",
       "      <td>24</td>\n",
       "      <td>1</td>\n",
       "    </tr>\n",
       "    <tr>\n",
       "      <th>31192</th>\n",
       "      <td>20141212142484</td>\n",
       "      <td>3</td>\n",
       "      <td>49</td>\n",
       "      <td>24</td>\n",
       "      <td>2</td>\n",
       "    </tr>\n",
       "    <tr>\n",
       "      <th>31193</th>\n",
       "      <td>20141212142484</td>\n",
       "      <td>4</td>\n",
       "      <td>19</td>\n",
       "      <td>25</td>\n",
       "      <td>1</td>\n",
       "    </tr>\n",
       "    <tr>\n",
       "      <th>31194</th>\n",
       "      <td>20141212142484</td>\n",
       "      <td>5</td>\n",
       "      <td>12</td>\n",
       "      <td>25</td>\n",
       "      <td>2</td>\n",
       "    </tr>\n",
       "    <tr>\n",
       "      <th>31195</th>\n",
       "      <td>20141212142500</td>\n",
       "      <td>1</td>\n",
       "      <td>30</td>\n",
       "      <td>18</td>\n",
       "      <td>2</td>\n",
       "    </tr>\n",
       "    <tr>\n",
       "      <th>31196</th>\n",
       "      <td>20141212142500</td>\n",
       "      <td>2</td>\n",
       "      <td>31</td>\n",
       "      <td>20</td>\n",
       "      <td>1</td>\n",
       "    </tr>\n",
       "    <tr>\n",
       "      <th>31197</th>\n",
       "      <td>20141212142500</td>\n",
       "      <td>3</td>\n",
       "      <td>6</td>\n",
       "      <td>22</td>\n",
       "      <td>2</td>\n",
       "    </tr>\n",
       "    <tr>\n",
       "      <th>31198</th>\n",
       "      <td>20141212142500</td>\n",
       "      <td>4</td>\n",
       "      <td>3</td>\n",
       "      <td>22</td>\n",
       "      <td>1</td>\n",
       "    </tr>\n",
       "  </tbody>\n",
       "</table>\n",
       "<p>31199 rows × 5 columns</p>\n",
       "</div>"
      ],
      "text/plain": [
       "             TUCASEID  TULINENO  TEAGE  TERRP  TESEX\n",
       "0      20140101140007         1     20     19      2\n",
       "1      20140101140007         2     19     21      1\n",
       "2      20140101140007         3      0     22      1\n",
       "3      20140101140011         1     16     18      2\n",
       "4      20140101140011         2     33     24      2\n",
       "5      20140101140028         1     65     18      2\n",
       "6      20140101140028         2     38     28      1\n",
       "7      20140101140028         3     36     22      2\n",
       "8      20140101140028         5      5     23      2\n",
       "9      20140101140028         6     13     23      1\n",
       "10     20140101140028         7      2     23      1\n",
       "11     20140101140063         1     50     19      2\n",
       "12     20140101140168         1     23     18      2\n",
       "13     20140101140168         2      8     22      2\n",
       "14     20140101140537         1     85     18      1\n",
       "15     20140101140537         2     62     22      1\n",
       "16     20140101140559         1     27     18      1\n",
       "17     20140101140559         2     25     20      2\n",
       "18     20140101140559         3      1     22      2\n",
       "19     20140101140610         1     28     18      1\n",
       "20     20140101140610         2     29     20      2\n",
       "21     20140101140610         3      0     22      2\n",
       "22     20140101140614         1     63     19      2\n",
       "23     20140101140639         1     85     19      1\n",
       "24     20140101140665         1     66     18      2\n",
       "25     20140101140665         2     66     20      1\n",
       "26     20140101140685         1     54     19      1\n",
       "27     20140101140685         2     58     28      1\n",
       "28     20140101140702         1     31     18      2\n",
       "29     20140101140702         2      8     22      2\n",
       "...               ...       ...    ...    ...    ...\n",
       "31169  20141212142400         1     79     18      1\n",
       "31170  20141212142400         2     78     20      2\n",
       "31171  20141212142422         1     65     18      1\n",
       "31172  20141212142422         2     62     20      2\n",
       "31173  20141212142441         1     70     18      1\n",
       "31174  20141212142441         2     65     20      2\n",
       "31175  20141212142461         1     75     19      1\n",
       "31176  20141212142462         1     33     18      2\n",
       "31177  20141212142462         2     37     20      1\n",
       "31178  20141212142462         3      1     22      1\n",
       "31179  20141212142470         1     37     18      2\n",
       "31180  20141212142470         2     15     22      2\n",
       "31181  20141212142470         3     24     22      1\n",
       "31182  20141212142472         1     28     19      1\n",
       "31183  20141212142476         1     57     18      1\n",
       "31184  20141212142476         2     50     20      2\n",
       "31185  20141212142476         3     23     22      2\n",
       "31186  20141212142476         4     19     22      1\n",
       "31187  20141212142480         1     57     18      2\n",
       "31188  20141212142480         2     57     20      1\n",
       "31189  20141212142480         3     16     22      1\n",
       "31190  20141212142484         1     23     18      1\n",
       "31191  20141212142484         2     51     24      1\n",
       "31192  20141212142484         3     49     24      2\n",
       "31193  20141212142484         4     19     25      1\n",
       "31194  20141212142484         5     12     25      2\n",
       "31195  20141212142500         1     30     18      2\n",
       "31196  20141212142500         2     31     20      1\n",
       "31197  20141212142500         3      6     22      2\n",
       "31198  20141212142500         4      3     22      1\n",
       "\n",
       "[31199 rows x 5 columns]"
      ]
     },
     "execution_count": 15,
     "metadata": {},
     "output_type": "execute_result"
    }
   ],
   "source": [
    "roster"
   ]
  },
  {
   "cell_type": "code",
   "execution_count": null,
   "metadata": {
    "collapsed": true
   },
   "outputs": [],
   "source": []
  },
  {
   "cell_type": "code",
   "execution_count": 36,
   "metadata": {
    "collapsed": false
   },
   "outputs": [
    {
     "ename": "SyntaxError",
     "evalue": "invalid syntax (<ipython-input-36-4178bd3a056c>, line 1)",
     "output_type": "error",
     "traceback": [
      "\u001b[0;36m  File \u001b[0;32m\"<ipython-input-36-4178bd3a056c>\"\u001b[0;36m, line \u001b[0;32m1\u001b[0m\n\u001b[0;31m    age.sort_values(by=)\u001b[0m\n\u001b[0m                       ^\u001b[0m\n\u001b[0;31mSyntaxError\u001b[0m\u001b[0;31m:\u001b[0m invalid syntax\n"
     ]
    }
   ],
   "source": [
    "age.sort_values(by=)"
   ]
  },
  {
   "cell_type": "code",
   "execution_count": 241,
   "metadata": {
    "collapsed": false
   },
   "outputs": [
    {
     "ename": "NameError",
     "evalue": "name 'age_sorted' is not defined",
     "output_type": "error",
     "traceback": [
      "\u001b[0;31m---------------------------------------------------------------------------\u001b[0m",
      "\u001b[0;31mNameError\u001b[0m                                 Traceback (most recent call last)",
      "\u001b[0;32m<ipython-input-241-bca66a951115>\u001b[0m in \u001b[0;36m<module>\u001b[0;34m()\u001b[0m\n\u001b[0;32m----> 1\u001b[0;31m \u001b[0mage_sorted\u001b[0m\u001b[0;34m\u001b[0m\u001b[0m\n\u001b[0m",
      "\u001b[0;31mNameError\u001b[0m: name 'age_sorted' is not defined"
     ]
    }
   ],
   "source": []
  },
  {
   "cell_type": "code",
   "execution_count": null,
   "metadata": {
    "collapsed": true
   },
   "outputs": [],
   "source": []
  },
  {
   "cell_type": "code",
   "execution_count": null,
   "metadata": {
    "collapsed": false
   },
   "outputs": [],
   "source": [
    "#roster_copy.rename(columns={'TUCASEID': 'Household', 'TESEX': 'SEX', 'TEA' })"
   ]
  },
  {
   "cell_type": "code",
   "execution_count": null,
   "metadata": {
    "collapsed": true
   },
   "outputs": [],
   "source": []
  },
  {
   "cell_type": "code",
   "execution_count": null,
   "metadata": {
    "collapsed": true
   },
   "outputs": [],
   "source": []
  },
  {
   "cell_type": "code",
   "execution_count": null,
   "metadata": {
    "collapsed": true
   },
   "outputs": [],
   "source": []
  },
  {
   "cell_type": "code",
   "execution_count": null,
   "metadata": {
    "collapsed": false
   },
   "outputs": [],
   "source": []
  },
  {
   "cell_type": "code",
   "execution_count": 52,
   "metadata": {
    "collapsed": true
   },
   "outputs": [],
   "source": [
    "# PEEDUCA\n",
    "\n",
    "# Valid Entries: \n",
    "# 31 Less than 1st grade\n",
    "# 32 1st, 2nd, 3rd, or 4th grade\n",
    "# 33 5th or 6th grade\n",
    "# 34 7th or 8th grade\n",
    "# 35 9th grade\n",
    "# 36 10th grade\n",
    "# 37 11th grade\n",
    "# 38 12th grade - no diploma\n",
    "# 39 High school graduate - diploma or equivalent (GED)\n",
    "# 40 Some college but no degree\n",
    "# 41 Associate degree - occupational/vocational\n",
    "# 42 Associate degree - academic program\n",
    "# 43 Bachelor's degree (BA, AB, BS, etc.)\n",
    "# 44 Master's degree (MA, MS, MEng, MEd, MSW, etc.)\n",
    "# 45 Professional school degree (MD, DDS, DVM, etc.)\n",
    "# 46 Doctoral degree (PhD, EdD, etc.) \n",
    "\n",
    "# TELFS \n",
    "\n",
    "# Edited Universe: All respondents\n",
    "# Valid Entries: \n",
    "# 1 Employed - at work\n",
    "# 2 Employed - absent\n",
    "# 3 Unemployed - on layoff\n",
    "# 4 Unemployed - looking\n",
    "# 5 Not in labor force\n"
   ]
  },
  {
   "cell_type": "code",
   "execution_count": null,
   "metadata": {
    "collapsed": true
   },
   "outputs": [],
   "source": [
    "#roster_copy.rename(columns={'TUCASEID': 'Household', 'TESEX': 'SEX', 'TEA' })"
   ]
  },
  {
   "cell_type": "code",
   "execution_count": null,
   "metadata": {
    "collapsed": false
   },
   "outputs": [],
   "source": [
    "4+2"
   ]
  },
  {
   "cell_type": "code",
   "execution_count": 218,
   "metadata": {
    "collapsed": false
   },
   "outputs": [],
   "source": [
    "da_verdict = roster['TESEX'] == 1"
   ]
  },
  {
   "cell_type": "code",
   "execution_count": null,
   "metadata": {
    "collapsed": false
   },
   "outputs": [],
   "source": []
  },
  {
   "cell_type": "code",
   "execution_count": 222,
   "metadata": {
    "collapsed": false
   },
   "outputs": [
    {
     "data": {
      "text/plain": [
       "count     31199\n",
       "unique        2\n",
       "top       False\n",
       "freq      16210\n",
       "Name: TESEX, dtype: object"
      ]
     },
     "execution_count": 222,
     "metadata": {},
     "output_type": "execute_result"
    }
   ],
   "source": [
    "da_verdict.describe()"
   ]
  },
  {
   "cell_type": "code",
   "execution_count": null,
   "metadata": {
    "collapsed": true
   },
   "outputs": [],
   "source": []
  },
  {
   "cell_type": "code",
   "execution_count": null,
   "metadata": {
    "collapsed": true
   },
   "outputs": [],
   "source": []
  },
  {
   "cell_type": "code",
   "execution_count": null,
   "metadata": {
    "collapsed": true
   },
   "outputs": [],
   "source": []
  },
  {
   "cell_type": "code",
   "execution_count": null,
   "metadata": {
    "collapsed": true
   },
   "outputs": [],
   "source": []
  },
  {
   "cell_type": "code",
   "execution_count": 65,
   "metadata": {
    "collapsed": false
   },
   "outputs": [],
   "source": [
    "#roster['TESEX'].head(20)"
   ]
  },
  {
   "cell_type": "code",
   "execution_count": null,
   "metadata": {
    "collapsed": true
   },
   "outputs": [],
   "source": []
  },
  {
   "cell_type": "code",
   "execution_count": null,
   "metadata": {
    "collapsed": true
   },
   "outputs": [],
   "source": []
  },
  {
   "cell_type": "code",
   "execution_count": null,
   "metadata": {
    "collapsed": true
   },
   "outputs": [],
   "source": []
  },
  {
   "cell_type": "code",
   "execution_count": null,
   "metadata": {
    "collapsed": true
   },
   "outputs": [],
   "source": []
  },
  {
   "cell_type": "code",
   "execution_count": null,
   "metadata": {
    "collapsed": true
   },
   "outputs": [],
   "source": []
  },
  {
   "cell_type": "code",
   "execution_count": 66,
   "metadata": {
    "collapsed": false
   },
   "outputs": [],
   "source": [
    "#roster.head(20).plot.barh()"
   ]
  },
  {
   "cell_type": "raw",
   "metadata": {
    "collapsed": true
   },
   "source": []
  },
  {
   "cell_type": "code",
   "execution_count": null,
   "metadata": {
    "collapsed": false
   },
   "outputs": [],
   "source": []
  },
  {
   "cell_type": "code",
   "execution_count": null,
   "metadata": {
    "collapsed": false
   },
   "outputs": [],
   "source": []
  },
  {
   "cell_type": "code",
   "execution_count": null,
   "metadata": {
    "collapsed": true
   },
   "outputs": [],
   "source": []
  },
  {
   "cell_type": "code",
   "execution_count": null,
   "metadata": {
    "collapsed": true
   },
   "outputs": [],
   "source": []
  },
  {
   "cell_type": "code",
   "execution_count": 29,
   "metadata": {
    "collapsed": true
   },
   "outputs": [],
   "source": [
    "# TERRP\n",
    "# 18 Self\n",
    "# 19 Self\n",
    "# 20 Spouse\n",
    "# 21 Unmarried partner\n",
    "# 22 Own household child\n",
    "# 23 Grandchild\n",
    "# 24 Parent\n",
    "# 25 Brother/sister\n",
    "# 26 Other related person\n",
    "# 27 Foster child\n",
    "# 28 Housemate/roommate\n",
    "# 29 Roomer/boarder\n",
    "# 30 Other nonrelative\n",
    "# 40 Own nonhousehold child < 18\n"
   ]
  },
  {
   "cell_type": "code",
   "execution_count": null,
   "metadata": {
    "collapsed": true
   },
   "outputs": [],
   "source": []
  },
  {
   "cell_type": "code",
   "execution_count": null,
   "metadata": {
    "collapsed": true
   },
   "outputs": [],
   "source": []
  },
  {
   "cell_type": "code",
   "execution_count": null,
   "metadata": {
    "collapsed": true
   },
   "outputs": [],
   "source": []
  },
  {
   "cell_type": "code",
   "execution_count": null,
   "metadata": {
    "collapsed": false
   },
   "outputs": [],
   "source": []
  },
  {
   "cell_type": "code",
   "execution_count": null,
   "metadata": {
    "collapsed": true
   },
   "outputs": [],
   "source": [
    "TEELDUR Edited: how long have you provided care to [NAME]? EC Roster File\n",
    "Edited Universe: All eldercare recipients\n",
    "Valid Entries: \n",
    "1 0 to 5 months\n",
    "2 6 to 11 months\n",
    "3 1 year\n",
    "4 More than a year\n",
    "* Note: The name is filled with the information collected from the TUELWHO question\n",
    "TEELWHO Edited: who did you give this care to? EC Roster Fil\n",
    "    \n",
    "    TEELWHO Edited: who did you give this care to? EC Roster File\n",
    "Edited Universe: All eldercare recipients\n",
    "Valid Entries: \n",
    "20 Spouse\n",
    "21 Unmarried partner\n",
    "22 Own household child\n",
    "23 Grandchild\n",
    "24 Parent\n",
    "25 Brother/sister\n",
    "26 Other related person\n",
    "27 Foster child\n",
    "28 Housemate/roommate\n",
    "29 Roomer/boarder\n",
    "30 Other nonrelative\n",
    "33 Mother\n",
    "34 Father\n",
    "35 Spouse\n",
    "36 Partner\n",
    "37 Brother\n",
    "38 Sister\n",
    "39 Mother-in-law\n",
    "40 Father-in-law\n",
    "41 Aunt\n",
    "42 Uncle\n",
    "43 Friend\n",
    "44 Neighbor\n",
    "47 Grandmother/Great-grandmother\n",
    "48 Grandfather/Great-grandfather\n",
    "49 Other related person\n",
    "56 Other non-relative\n",
    "All codes of 30 or less refer to people living inside of the respondent's household\n",
    "Beginning in January 2013, values 47, 48, 49, and 56 were added; valu"
   ]
  }
 ],
 "metadata": {
  "kernelspec": {
   "display_name": "Python 3",
   "language": "python",
   "name": "python3"
  },
  "language_info": {
   "codemirror_mode": {
    "name": "ipython",
    "version": 3
   },
   "file_extension": ".py",
   "mimetype": "text/x-python",
   "name": "python",
   "nbconvert_exporter": "python",
   "pygments_lexer": "ipython3",
   "version": "3.5.1"
  }
 },
 "nbformat": 4,
 "nbformat_minor": 0
}
